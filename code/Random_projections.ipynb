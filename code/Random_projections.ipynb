{
 "cells": [
  {
   "cell_type": "code",
   "execution_count": 6,
   "metadata": {},
   "outputs": [],
   "source": [
    "import seaborn as sns\n",
    "import matplotlib.pyplot as plt\n",
    "\n",
    "from data_load import *\n",
    "from model_fit_functions import *\n",
    "\n",
    "from sklearn.utils import shuffle\n",
    "\n",
    "import pandas as pd\n",
    "import numpy as np\n",
    "\n",
    "import os\n",
    "import pickle\n",
    "\n",
    "\n",
    "from sklearn.random_projection import GaussianRandomProjection\n",
    "\n",
    "import random \n",
    "from sklearn.metrics.pairwise import euclidean_distances\n"
   ]
  },
  {
   "cell_type": "code",
   "execution_count": 2,
   "metadata": {},
   "outputs": [
    {
     "name": "stdout",
     "output_type": "stream",
     "text": [
      "Directory: Complete_Spectral_Data\\Training_Data Physical properties shape: (1346, 5) Spectral prop shape: (1346, 110001)\n",
      "Directory: Complete_Spectral_Data\\Test_Data Physical properties shape: (810, 5) Spectral prop shape: (810, 110001)\n",
      "(2156, 110001)\n",
      "(2156, 5)\n"
     ]
    }
   ],
   "source": [
    "directory_list = ['Complete_Spectral_Data\\Training_Data', 'Complete_Spectral_Data\\Test_Data']\n",
    "data_all = get_data_from_directory_list(directory_list)\n",
    "\n",
    "spectral_data = data_all[\"spectral_properties\"]\n",
    "physical_data = data_all[\"physical_properties\"]\n",
    "\n",
    "print(spectral_data.shape)\n",
    "print(physical_data.shape)\n",
    "\n",
    "spectral_data, physical_data = shuffle(spectral_data, physical_data, random_state = 5684)\n",
    "\n",
    "\n",
    "train_size = 1346\n",
    "val_size   = 430\n",
    "\n",
    "x_train = spectral_data[: train_size, :]\n",
    "x_val   = spectral_data[train_size : train_size + val_size, :]\n",
    "x_test  = spectral_data[train_size + val_size:]\n",
    "\n",
    "y_train = physical_data[: train_size, :]\n",
    "y_val   = physical_data[train_size : train_size + val_size, :]\n",
    "y_test  = physical_data[train_size + val_size:, :]\n",
    "\n",
    "x_train_df = pd.DataFrame(x_train)\n",
    "\n",
    "y_var_cols = ['virial_rad', 'stellar_rad', 'impact', 'mass', 'disc']\n",
    "\n",
    "\n",
    "y_train_df = pd.DataFrame(y_train, columns = y_var_cols) #.describe()\n",
    "y_train_df.describe()\n",
    "\n",
    "# Natural log of radii and mass\n",
    "y_train_ln = np.concatenate( (np.log(y_train[:, 0:2]), \n",
    "                              y_train[:, 2].reshape(-1, 1), \n",
    "                              np.log(y_train[:, 3]).reshape(-1, 1), \n",
    "                              y_train[:, 4].reshape(-1, 1)), axis = 1)\n",
    "\n",
    "y_train_ln_df = pd.DataFrame(y_train_ln, columns = y_var_cols) #.describe()\n",
    "\n",
    "y_val_ln = np.concatenate( (np.log(y_val[:, 0:2]), \n",
    "                              y_val[:, 2].reshape(-1, 1), \n",
    "                              np.log(y_val[:, 3]).reshape(-1, 1), \n",
    "                              y_val[:, 4].reshape(-1, 1)), axis = 1)\n",
    "\n",
    "y_val_ln_df = pd.DataFrame(y_val_ln, columns = y_var_cols)\n",
    "\n",
    "y_test_ln = np.concatenate( (np.log(y_test[:, 0:2]), \n",
    "                              y_test[:, 2].reshape(-1, 1), \n",
    "                              np.log(y_test[:, 3]).reshape(-1, 1), \n",
    "                              y_test[:, 4].reshape(-1, 1)), axis = 1)\n",
    "\n",
    "y_test_ln_df = pd.DataFrame(y_test_ln, columns = y_var_cols)"
   ]
  },
  {
   "cell_type": "code",
   "execution_count": 4,
   "metadata": {},
   "outputs": [
    {
     "name": "stdout",
     "output_type": "stream",
     "text": [
      "(1346, 110001)\n",
      "(1346, 9)\n",
      "(1346, 110010)\n",
      "(430, 110001)\n",
      "(430, 9)\n",
      "(430, 110010)\n"
     ]
    }
   ],
   "source": [
    "train_df_pooled = pooling_for_x(x_train, 10, np.mean)\n",
    "val_df_pooled = pooling_for_x(x_val, 10, np.mean)\n",
    "\n",
    "scaler = StandardScaler()\n",
    "\n",
    "scaler.fit(train_df_pooled)\n",
    "\n",
    "train_df_pooled = pd.DataFrame(scaler.transform(train_df_pooled))\n",
    "val_df_pooled = pd.DataFrame(scaler.transform(val_df_pooled))"
   ]
  },
  {
   "cell_type": "code",
   "execution_count": 13,
   "metadata": {},
   "outputs": [
    {
     "name": "stdout",
     "output_type": "stream",
     "text": [
      "1\n",
      "here1\n",
      "here2\n",
      "here3\n",
      "201\n",
      "here1\n",
      "here2\n",
      "here3\n",
      "401\n",
      "here1\n",
      "here2\n",
      "here3\n",
      "601\n",
      "here1\n",
      "here2\n",
      "here3\n",
      "801\n",
      "here1\n",
      "here2\n",
      "here3\n",
      "1001\n",
      "here1\n",
      "here2\n",
      "here3\n",
      "1201\n",
      "here1\n",
      "here2\n",
      "here3\n",
      "1401\n",
      "here1\n",
      "here2\n",
      "here3\n",
      "1601\n",
      "here1\n",
      "here2\n",
      "here3\n",
      "1801\n",
      "here1\n",
      "here2\n",
      "here3\n",
      "2001\n",
      "here1\n",
      "here2\n",
      "here3\n",
      "2201\n",
      "here1\n",
      "here2\n",
      "here3\n",
      "2401\n",
      "here1\n",
      "here2\n",
      "here3\n",
      "2601\n",
      "here1\n",
      "here2\n",
      "here3\n",
      "2801\n",
      "here1\n",
      "here2\n",
      "here3\n",
      "3001\n",
      "here1\n",
      "here2\n",
      "here3\n",
      "3201\n",
      "here1\n",
      "here2\n",
      "here3\n",
      "3401\n",
      "here1\n",
      "here2\n",
      "here3\n",
      "3601\n",
      "here1\n",
      "here2\n",
      "here3\n",
      "3801\n",
      "here1\n",
      "here2\n",
      "here3\n",
      "4001\n",
      "here1\n",
      "here2\n",
      "here3\n",
      "4201\n",
      "here1\n",
      "here2\n",
      "here3\n",
      "4401\n",
      "here1\n",
      "here2\n",
      "here3\n",
      "4601\n",
      "here1\n",
      "here2\n",
      "here3\n",
      "4801\n",
      "here1\n",
      "here2\n",
      "here3\n"
     ]
    }
   ],
   "source": [
    "random.seed(2627)\n",
    "\n",
    "x_train = train_df_pooled.copy().to_numpy()\n",
    "x_val = val_df_pooled.copy().to_numpy()\n",
    "\n",
    "\n",
    "train_dict = dict()\n",
    "val_dict = dict()\n",
    "\n",
    "n_samples_train = x_train.shape[0]\n",
    "n_samples_val = x_val.shape[0]\n",
    "p_dim = x_train.shape[1]\n",
    "\n",
    "for n_comp in np.arange(1, 5000, 200):\n",
    "    \n",
    "    print(n_comp)\n",
    "    \n",
    "    # initialise object\n",
    "    random_proj = GaussianRandomProjection(n_components = n_comp)\n",
    "    x_train_transformed = random_proj.fit_transform(x_train)\n",
    "    x_val_transformed = random_proj.fit_transform(x_val)\n",
    "    \n",
    "    # select a random subsample of size 100\n",
    "    train_sample = random.sample(np.arange(0, x_train.shape[0], 1).tolist(), 100)\n",
    "    val_sample = random.sample(np.arange(0, x_val.shape[0], 1).tolist(), 100)\n",
    "    \n",
    "    x_to_compare_train = x_train_transformed[train_sample, :]\n",
    "    x_to_compare_val = x_val_transformed[val_sample, :]\n",
    "    \n",
    "    # train set \n",
    "    distances_original_train = euclidean_distances(x_train[train_sample, :], squared=True).ravel() #[nonzero]\n",
    "    nonzero_train = distances_original_train  != 0\n",
    "    distances_original_train  = distances_original_train[nonzero_train]\n",
    "\n",
    "    # train set: calculate euclidean distances, drop zero distances (point with itself)\n",
    "    distances_projected_train = euclidean_distances(x_to_compare_train, squared=True ).ravel()[nonzero_train] \n",
    "    \n",
    "    # val set\n",
    "    distances_original_val = euclidean_distances(x_val[val_sample, :], squared=True).ravel() #[nonzero]\n",
    "    nonzero_val = distances_original_val  != 0\n",
    "    distances_original_val  = distances_original_val[nonzero_val]\n",
    "\n",
    "    # val set: # calculate euclidean distances, drop zero distances (point with itself)\n",
    "    distances_projected_val = euclidean_distances(x_to_compare_val, squared=True ).ravel()[nonzero_val]    \n",
    "    \n",
    "    # ratios of pointwise distances in the projected and original space\n",
    "    ratios_train = distances_projected_train / distances_original_train\n",
    "    \n",
    "    # Save results to an object\n",
    "    train_dict[n_comp] = dict()\n",
    "    train_dict[n_comp][\"ratios\"] = ratios_train\n",
    "    train_dict[n_comp][\"ratios_mean\"] = ratios_train.mean()\n",
    "    train_dict[n_comp][\"ratios_std\"] = ratios_train.std()\n",
    "    \n",
    "    # save val\n",
    "    ratios_val = distances_projected_val / distances_original_val\n",
    "    \n",
    "    val_dict[n_comp] = dict()\n",
    "    val_dict[n_comp][\"ratios\"] = ratios_val\n",
    "    val_dict[n_comp][\"ratios_mean\"] = ratios_val.mean()\n",
    "    val_dict[n_comp][\"ratios_std\"] = ratios_val.std()    \n",
    "        \n",
    "    # map back to the original space (note that this is approximate as the transformation matrix is orthogonal only\n",
    "    # in expectation)\n",
    "    x_original_space_train = x_train_transformed @ random_proj.components_\n",
    "    x_original_space_val = x_val_transformed @ random_proj.components_\n",
    "    \n",
    "    loss_train = ((x_original_space_train.ravel() - x_train.ravel()) ** 2).sum().sum()/(n_samples_train*p_dim)\n",
    "    loss_val = ((x_original_space_val.ravel() - x_val.ravel()) ** 2).sum().sum()/(n_samples_val*p_dim)\n",
    "    \n",
    "    train_dict[n_comp][\"loss_train\"] = loss_train\n",
    "    val_dict[n_comp][\"loss_val\"] = loss_val"
   ]
  },
  {
   "cell_type": "code",
   "execution_count": 15,
   "metadata": {},
   "outputs": [
    {
     "data": {
      "text/plain": [
       "()"
      ]
     },
     "execution_count": 15,
     "metadata": {},
     "output_type": "execute_result"
    }
   ],
   "source": [
    "# collect the train and validation set results into a single object, whih is then saved\n",
    "random_proj = dict()\n",
    "random_proj[\"train\"] = train_dict\n",
    "random_proj[\"val\"] = val_dict\n",
    "\n",
    "# Save the object (commented out to prevent overwriting)\n",
    "# dump_object(\"randomproj_sequence_long\", random_proj)"
   ]
  },
  {
   "cell_type": "code",
   "execution_count": 337,
   "metadata": {},
   "outputs": [],
   "source": [
    "# Plot losses (in terms of the reconstruction error)\n",
    "n_comp_list = list(val_dict.keys())\n",
    "losses_train_list = [train_dict[i][\"loss_train\"] for i in val_dict.keys()]\n",
    "losses_val_list = [val_dict[i][\"loss_val\"] for i in val_dict.keys()]"
   ]
  },
  {
   "cell_type": "code",
   "execution_count": 338,
   "metadata": {},
   "outputs": [
    {
     "data": {
      "text/plain": [
       "(0.0, 500.0)"
      ]
     },
     "execution_count": 338,
     "metadata": {},
     "output_type": "execute_result"
    },
    {
     "data": {
      "image/png": "[encoded data removed]",
      "text/plain": [
       "<Figure size 432x288 with 1 Axes>"
      ]
     },
     "metadata": {
      "needs_background": "light"
     },
     "output_type": "display_data"
    }
   ],
   "source": [
    "fig, ax = plt.subplots()\n",
    "ax.plot( np.array(n_comp_list), np.array(losses_train_list) )\n",
    "ax.plot( np.array(n_comp_list), np.array(losses_val_list) )\n",
    "ax.set_xlim([50, 250])\n",
    "ax.set_ylim([0, 500])"
   ]
  },
  {
   "cell_type": "code",
   "execution_count": 342,
   "metadata": {},
   "outputs": [],
   "source": [
    "# Plot the ratio of original vs transformed distances\n",
    "\n",
    "# Note tha tthis is calculated on a 100 randomly selected datapoints. Datapoints as well as the transformation matrix are\n",
    "# drawn separately for each number of components.\n",
    "\n",
    "n_comp_list = list(val_dict.keys())\n",
    "ratios_mean_list = [train_dict[i][\"ratios_mean\"] for i in val_dict.keys()]\n",
    "ratios_std_list = [train_dict[i][\"ratios_std\"] for i in val_dict.keys()]"
   ]
  },
  {
   "cell_type": "code",
   "execution_count": 355,
   "metadata": {},
   "outputs": [
    {
     "data": {
      "text/plain": [
       "[<matplotlib.lines.Line2D at 0x27ca12ac610>]"
      ]
     },
     "execution_count": 355,
     "metadata": {},
     "output_type": "execute_result"
    },
    {
     "data": {
      "image/png": "[encoded data removed]",
      "text/plain": [
       "<Figure size 432x288 with 1 Axes>"
      ]
     },
     "metadata": {
      "needs_background": "light"
     },
     "output_type": "display_data"
    }
   ],
   "source": [
    "fig, ax = plt.subplots()\n",
    "ax.plot( np.array(n_comp_list), np.array(ratios_mean_list), color = \"blue\" )\n",
    "ax.plot( np.array(n_comp_list), np.array(ratios_mean_list) + np.array(ratios_std_list), color = \"blue\", \n",
    "        linestyle = \"--\", linewidth = '1' )\n",
    "ax.plot( np.array(n_comp_list), np.array(ratios_mean_list) - np.array(ratios_std_list), color = \"blue\",\n",
    "        linestyle = \"--\", linewidth = '1' )\n",
    "ax.title\n"
   ]
  },
  {
   "cell_type": "code",
   "execution_count": 271,
   "metadata": {},
   "outputs": [
    {
     "data": {
      "text/plain": [
       "Text(0, 0.5, 'Distribution of samples pairs')"
      ]
     },
     "execution_count": 271,
     "metadata": {},
     "output_type": "execute_result"
    },
    {
     "data": {
      "image/png": "[encoded data removed]",
      "text/plain": [
       "<Figure size 432x288 with 1 Axes>"
      ]
     },
     "metadata": {
      "needs_background": "light"
     },
     "output_type": "display_data"
    }
   ],
   "source": [
    "# Histogram of original vs projected distances \n",
    "\n",
    "rates = distances_projected / distances_original\n",
    "\n",
    "plt.figure()\n",
    "plt.hist(rates, bins=50, edgecolor='k')\n",
    "plt.xlabel(\"Squared distances rate: projected / original\")\n",
    "plt.ylabel(\"Distribution of samples pairs\")"
   ]
  }
 ],
 "metadata": {
  "kernelspec": {
   "display_name": "gsof_env",
   "language": "python",
   "name": "gsof_env"
  },
  "language_info": {
   "codemirror_mode": {
    "name": "ipython",
    "version": 3
   },
   "file_extension": ".py",
   "mimetype": "text/x-python",
   "name": "python",
   "nbconvert_exporter": "python",
   "pygments_lexer": "ipython3",
   "version": "3.8.6"
  }
 },
 "nbformat": 4,
 "nbformat_minor": 4
}
